{
 "cells": [
  {
   "cell_type": "code",
   "execution_count": 19,
   "metadata": {},
   "outputs": [
    {
     "name": "stdout",
     "output_type": "stream",
     "text": [
      "1 table(s) on page 7 of ./allPDF_2/data_prt1/DigiMV2021_DA718801-BE1A-4CC2-9DF9-3BFE16567817_0_75446731_Accountantsverklaring_18706_Jeugdpraktijk Groos B.V..pdf\n"
     ]
    }
   ],
   "source": [
    "# read file from folder \n",
    "import fitz  # import package PyMuPDF\n",
    "\n",
    "\n",
    "# Open some document, for example a PDF (could also be EPUB, XPS, etc.)\n",
    "#doc = fitz.open(\"./allPDF_2/data_prt1/DigiMV2021_D378NP2TA9_1_30202982_Overig_18115_Het Jagerhuis B.V..pdf\")\n",
    "doc = fitz.open(\"./allPDF_2/data_prt1/DigiMV2021_DA718801-BE1A-4CC2-9DF9-3BFE16567817_0_75446731_Accountantsverklaring_18706_Jeugdpraktijk Groos B.V..pdf\")\n",
    "\n",
    "\n",
    "# Load a desired page. This works via 0-based numbers\n",
    "page = doc[7]  # this is the first page\n",
    "\n",
    "\n",
    "# Look for tables on this page and display the table count\n",
    "#tabs = page.find_tables()\n",
    "tabs = page.find_tables(horizontal_strategy=\"text\", vertical_strategy=\"text\")\n",
    "print(f\"{len(tabs.tables)} table(s) on {page}\")\n"
   ]
  },
  {
   "cell_type": "code",
   "execution_count": null,
   "metadata": {},
   "outputs": [],
   "source": [
    "# find tabeles in the file\n",
    "\n"
   ]
  },
  {
   "cell_type": "code",
   "execution_count": 20,
   "metadata": {},
   "outputs": [
    {
     "data": {
      "text/plain": [
       "(23.3181209564209, 57.24187469482422, 552.8426513671875, 805.5414428710938)"
      ]
     },
     "execution_count": 20,
     "metadata": {},
     "output_type": "execute_result"
    }
   ],
   "source": [
    "tab = tabs[0]  # get the first table on the page\n",
    "tab.bbox"
   ]
  },
  {
   "cell_type": "code",
   "execution_count": 11,
   "metadata": {},
   "outputs": [
    {
     "name": "stdout",
     "output_type": "stream",
     "text": [
      "['Gegevens 2020', '', '', '']\n",
      "['bedragen x € 1', 'J. Jager', '', '']\n",
      "['', 'Functiegegevens\\n5', '', '', 'Directeur', '', '', '', '', '', '', '']\n",
      "['Aanvang\\n6\\n en einde functievervulling in \\n2021\\n \\n01/01 – 31/12']\n",
      "['Omvang dienstverband (als \\ndeeltijdfactor in fte)\\n7 \\n \\n \\n1,0']\n",
      "['Dienstbetrekking?\\n8 \\n \\nja']\n",
      "['', 'Bezoldiging\\n9', '', '', '', '', '', '', '', '', '', '']\n",
      "['Beloning plus belastbare \\nonkostenvergoedingen\\n \\n€55.557,00']\n",
      "['Beloningen betaalbaar op termijn\\n \\n€0,00']\n",
      "['Subtotaal\\n \\n€55.557,00']\n",
      "['']\n",
      "['Individueel toepasselijke \\nbezoldigingsmaximum\\n10\\n \\n€141.000,00']\n",
      "['']\n",
      "['-/- Onverschuldigd betaald en nog niet \\nterugontvangen bedrag\\n11\\n \\nN.v.t.']\n",
      "['Bezoldiging \\n€55.557,00']\n",
      "['']\n",
      "['Het bedrag van de overschrijding en de \\nreden waarom de overschrijding al dan \\nniet is toegestaan\\n12\\n \\nN.v.t.']\n",
      "['Toelichting op de vordering wegens \\nonverschuldigde betaling\\n13\\n \\nN.v.t.']\n",
      "['', 'Gegevens 2020\\n14', '', '', '', '', '', '', '', '', '', '']\n",
      "['bedragen x € 1', 'J. Jager', '', '']\n",
      "['', 'Functiegegevens\\n5', '', '', 'Directeur', '', '', '', '', '', '', '']\n",
      "['Aanvang\\n \\nen einde functievervulling in \\n2020\\n \\n01/01 – 31/12']\n"
     ]
    }
   ],
   "source": [
    "for line in tab.extract():  # print cell text for each row\n",
    "    print(line)"
   ]
  },
  {
   "cell_type": "code",
   "execution_count": 12,
   "metadata": {},
   "outputs": [
    {
     "ename": "IndexError",
     "evalue": "list index out of range",
     "output_type": "error",
     "traceback": [
      "\u001b[0;31m---------------------------------------------------------------------------\u001b[0m",
      "\u001b[0;31mIndexError\u001b[0m                                Traceback (most recent call last)",
      "Cell \u001b[0;32mIn[12], line 1\u001b[0m\n\u001b[0;32m----> 1\u001b[0m df \u001b[38;5;241m=\u001b[39m \u001b[43mtab\u001b[49m\u001b[38;5;241;43m.\u001b[39;49m\u001b[43mto_pandas\u001b[49m\u001b[43m(\u001b[49m\u001b[43m)\u001b[49m\n\u001b[1;32m      2\u001b[0m df\n",
      "File \u001b[0;32m~/anaconda3/envs/wnt/lib/python3.12/site-packages/fitz/table.py:1283\u001b[0m, in \u001b[0;36mTable.to_pandas\u001b[0;34m(self)\u001b[0m\n\u001b[1;32m   1281\u001b[0m     value \u001b[38;5;241m=\u001b[39m []\n\u001b[1;32m   1282\u001b[0m     \u001b[38;5;28;01mfor\u001b[39;00m j \u001b[38;5;129;01min\u001b[39;00m \u001b[38;5;28mrange\u001b[39m(\u001b[38;5;28mlen\u001b[39m(extract)):\n\u001b[0;32m-> 1283\u001b[0m         value\u001b[38;5;241m.\u001b[39mappend(\u001b[43mextract\u001b[49m\u001b[43m[\u001b[49m\u001b[43mj\u001b[49m\u001b[43m]\u001b[49m\u001b[43m[\u001b[49m\u001b[43mi\u001b[49m\u001b[43m]\u001b[49m)\n\u001b[1;32m   1284\u001b[0m     pd_dict[key] \u001b[38;5;241m=\u001b[39m value\n\u001b[1;32m   1286\u001b[0m \u001b[38;5;28;01mreturn\u001b[39;00m pd\u001b[38;5;241m.\u001b[39mDataFrame(pd_dict)\n",
      "\u001b[0;31mIndexError\u001b[0m: list index out of range"
     ]
    }
   ],
   "source": [
    "df = tab.to_pandas()\n",
    "df\n"
   ]
  }
 ],
 "metadata": {
  "kernelspec": {
   "display_name": "wnt",
   "language": "python",
   "name": "python3"
  },
  "language_info": {
   "codemirror_mode": {
    "name": "ipython",
    "version": 3
   },
   "file_extension": ".py",
   "mimetype": "text/x-python",
   "name": "python",
   "nbconvert_exporter": "python",
   "pygments_lexer": "ipython3",
   "version": "3.12.0"
  }
 },
 "nbformat": 4,
 "nbformat_minor": 2
}
