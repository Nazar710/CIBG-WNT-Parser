{
 "cells": [
  {
   "cell_type": "markdown",
   "metadata": {},
   "source": [
    "Regexs for retrievel from plein text"
   ]
  },
  {
   "cell_type": "code",
   "execution_count": 2,
   "metadata": {},
   "outputs": [
    {
     "name": "stdout",
     "output_type": "stream",
     "text": [
      "WorkMate Company BV\n",
      "\n",
      "5  VERANTWOORDINGSMODEL WNT\n",
      "\n",
      "WNT-verantwoording 2020 Workmate Company B.V.\n",
      "\n",
      "Gegevens 2020\n",
      "\n",
      "bedragen x € 1\n",
      "\n",
      "De heer L. Peters\n",
      "\n",
      "Functiegegevens5\n",
      "\n",
      "Directeur ~bestuurde\n",
      "\n",
      "T\n",
      "\n",
      "Aanvang6 en einde \n",
      "functievervulling in 2020\n",
      "\n",
      "Omvang dienstverband (als \n",
      "deeltijdfactor in fte)7  \n",
      "\n",
      "Dienstbetrekking?8 \n",
      "\n",
      "Bezoldiging9\n",
      "\n",
      "Beloning plus belastbare \n",
      "onkostenvergoedingen\n",
      "\n",
      "Beloningen betaalbaar op \n",
      "termijn\n",
      "\n",
      "Subtotaal\n",
      "\n",
      "Individueel toepasselijke \n",
      "bezoldigingsmaximum 10\n",
      "\n",
      "-/- Onverschuldigd betaald en \n",
      "nog niet terugontvangen \n",
      "bedrag11\n",
      "\n",
      "Bezoldiging\n",
      "\n",
      "Het bedrag van de \n",
      "overschrijding en de reden \n",
      "waarom de overschrijding al dan \n",
      "niet is toegestaan12\n",
      "Toelichting op de vordering \n",
      "wegens onverschuldigde \n",
      "betaling13\n",
      "\n",
      "[01/01] – [31/12]\n",
      "\n",
      "[1,0]\n",
      "\n",
      "[ja]\n",
      "\n",
      "[56.820]\n",
      "\n",
      "[nihil]\n",
      "\n",
      "[56,820]\n",
      "\n",
      "[100.000]\n",
      "\n",
      "N.v.t.\n",
      "\n",
      "[56.820]\n",
      "\n",
      "N.v.t.\n",
      "\n",
      "N.v.t.\n",
      "\n",
      "N.v.t.\n",
      "\n",
      "\f\n",
      "[]\n"
     ]
    }
   ],
   "source": [
    "import re\n",
    "\n",
    "#text = \"Totale Bezoldiging some text 5.000, more text 134.500, yet more text 12.345\"\n",
    "%store -r page_2_content\n",
    "text = page_2_content\n",
    "print(text)\n",
    "n = 2  # Number of matches you want to retrieve\n",
    "\n",
    "# Find the part of the text that follows \"Totale Bezoldiging\"\n",
    "pattern = r\"Bezoldiging(.*)\"\n",
    "#pattern = r\"betaald.*?(Totale Bezoldiging|Totaal Bezoldiging|Bezoldiging)(.*)\"\n",
    "\n",
    "#pattern = r\"bezoldigingsmaximum(.*)\"\n",
    "match = re.search(pattern, text)\n",
    "if match:\n",
    "    following_text = match.group(1)\n",
    "\n",
    "    # Find all number patterns in the following text\n",
    "    number_pattern = r'\\d{1,3}\\.\\d+'\n",
    "    matches = re.findall(number_pattern, following_text)\n",
    "\n",
    "    # Get the first 'n' matches\n",
    "    first_n_matches = matches[:n]\n",
    "    print(first_n_matches)\n",
    "else:\n",
    "    print(\"No matches found\")\n"
   ]
  },
  {
   "cell_type": "code",
   "execution_count": 3,
   "metadata": {},
   "outputs": [
    {
     "name": "stdout",
     "output_type": "stream",
     "text": [
      "['2020']\n"
     ]
    }
   ],
   "source": [
    "import re\n",
    "\n",
    "text = page_2_content\n",
    "years = re.findall(r'Gegevens\\s*(\\d{4})', text)\n",
    "\n",
    "print(years)  # Output: ['2020', '2019']\n",
    "\n"
   ]
  }
 ],
 "metadata": {
  "kernelspec": {
   "display_name": "Python 3",
   "language": "python",
   "name": "python3"
  },
  "language_info": {
   "codemirror_mode": {
    "name": "ipython",
    "version": 3
   },
   "file_extension": ".py",
   "mimetype": "text/x-python",
   "name": "python",
   "nbconvert_exporter": "python",
   "pygments_lexer": "ipython3",
   "version": "3.12.0"
  }
 },
 "nbformat": 4,
 "nbformat_minor": 2
}
