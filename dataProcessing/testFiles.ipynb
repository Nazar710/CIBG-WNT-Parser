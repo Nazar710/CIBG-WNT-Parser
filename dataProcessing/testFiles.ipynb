{
 "cells": [
  {
   "cell_type": "code",
   "execution_count": 2,
   "metadata": {},
   "outputs": [
    {
     "data": {
      "text/html": [
       "<div>\n",
       "<style scoped>\n",
       "    .dataframe tbody tr th:only-of-type {\n",
       "        vertical-align: middle;\n",
       "    }\n",
       "\n",
       "    .dataframe tbody tr th {\n",
       "        vertical-align: top;\n",
       "    }\n",
       "\n",
       "    .dataframe thead th {\n",
       "        text-align: right;\n",
       "    }\n",
       "</style>\n",
       "<table border=\"1\" class=\"dataframe\">\n",
       "  <thead>\n",
       "    <tr style=\"text-align: right;\">\n",
       "      <th></th>\n",
       "      <th>File name</th>\n",
       "      <th>Table type</th>\n",
       "      <th>table Format</th>\n",
       "      <th>How many people in WNT table</th>\n",
       "      <th>header outside of the table or not</th>\n",
       "      <th>WHO</th>\n",
       "      <th>Comments</th>\n",
       "    </tr>\n",
       "  </thead>\n",
       "  <tbody>\n",
       "    <tr>\n",
       "      <th>0</th>\n",
       "      <td>DigiMV2020_2EE65ATJV7_0_65613902_Accountantsve...</td>\n",
       "      <td>4.0</td>\n",
       "      <td>NaN</td>\n",
       "      <td>NaN</td>\n",
       "      <td>NaN</td>\n",
       "      <td>Abdulhai</td>\n",
       "      <td>NaN</td>\n",
       "    </tr>\n",
       "    <tr>\n",
       "      <th>1</th>\n",
       "      <td>DigiMV2020_2EE65ATJV7_0_65613902_Jaarrekening_...</td>\n",
       "      <td>4.0</td>\n",
       "      <td>NaN</td>\n",
       "      <td>NaN</td>\n",
       "      <td>NaN</td>\n",
       "      <td>Abdulhai</td>\n",
       "      <td>NaN</td>\n",
       "    </tr>\n",
       "    <tr>\n",
       "      <th>2</th>\n",
       "      <td>DigiMV2020_2FJ775FMWQ_0_74967894_Jaarrekening_...</td>\n",
       "      <td>3.0</td>\n",
       "      <td>0</td>\n",
       "      <td>1.0</td>\n",
       "      <td>0.0</td>\n",
       "      <td>Abdulhai</td>\n",
       "      <td>NaN</td>\n",
       "    </tr>\n",
       "    <tr>\n",
       "      <th>3</th>\n",
       "      <td>DigiMV2020_2SFYKJN5QQ_0_73866121_Accountantsve...</td>\n",
       "      <td>4.0</td>\n",
       "      <td>NaN</td>\n",
       "      <td>NaN</td>\n",
       "      <td>NaN</td>\n",
       "      <td>Abdulhai</td>\n",
       "      <td>NaN</td>\n",
       "    </tr>\n",
       "    <tr>\n",
       "      <th>4</th>\n",
       "      <td>DigiMV2020_2SFYKJN5QQ_0_73866121_Jaarrekening_...</td>\n",
       "      <td>4.0</td>\n",
       "      <td>NaN</td>\n",
       "      <td>NaN</td>\n",
       "      <td>NaN</td>\n",
       "      <td>Abdulhai</td>\n",
       "      <td>NaN</td>\n",
       "    </tr>\n",
       "  </tbody>\n",
       "</table>\n",
       "</div>"
      ],
      "text/plain": [
       "                                           File name  Table type table Format  \\\n",
       "0  DigiMV2020_2EE65ATJV7_0_65613902_Accountantsve...         4.0          NaN   \n",
       "1  DigiMV2020_2EE65ATJV7_0_65613902_Jaarrekening_...         4.0          NaN   \n",
       "2  DigiMV2020_2FJ775FMWQ_0_74967894_Jaarrekening_...         3.0            0   \n",
       "3  DigiMV2020_2SFYKJN5QQ_0_73866121_Accountantsve...         4.0          NaN   \n",
       "4  DigiMV2020_2SFYKJN5QQ_0_73866121_Jaarrekening_...         4.0          NaN   \n",
       "\n",
       "   How many people in WNT table  header outside of the table or not      WHO   \\\n",
       "0                           NaN                                 NaN  Abdulhai   \n",
       "1                           NaN                                 NaN  Abdulhai   \n",
       "2                           1.0                                 0.0  Abdulhai   \n",
       "3                           NaN                                 NaN  Abdulhai   \n",
       "4                           NaN                                 NaN  Abdulhai   \n",
       "\n",
       "  Comments  \n",
       "0      NaN  \n",
       "1      NaN  \n",
       "2      NaN  \n",
       "3      NaN  \n",
       "4      NaN  "
      ]
     },
     "execution_count": 2,
     "metadata": {},
     "output_type": "execute_result"
    }
   ],
   "source": [
    "# prepare data for testing\n",
    "\n",
    "import pandas as pd\n",
    "import numpy as np\n",
    "import os\n",
    "\n",
    "# save excel file with labeled PDFs as dataframeconda\n",
    "labeled_df = pd.read_excel('firstPDFsLabeled.xlsx')\n",
    "\n",
    "#dataframe from labeled excel file of 449 PDFs\n",
    "labeled_df.head()"
   ]
  },
  {
   "cell_type": "code",
   "execution_count": 9,
   "metadata": {},
   "outputs": [
    {
     "data": {
      "text/plain": [
       "(104, 7)"
      ]
     },
     "execution_count": 9,
     "metadata": {},
     "output_type": "execute_result"
    }
   ],
   "source": [
    "# filter out PDFs where Table type is equal to 1\n",
    "labeled_df_1 = labeled_df[labeled_df['Table type'] == 1]\n",
    "\n",
    "labeled_df_1.shape"
   ]
  },
  {
   "cell_type": "code",
   "execution_count": null,
   "metadata": {},
   "outputs": [],
   "source": [
    "# pdf to list of strings(1 string per page)\n",
    "# doesn't work with scanned PDFs\n",
    "# https://stackoverflow.com/questions/26494211/extracting-text-from-a-pdf-file-using-pdfminer-in-python\n",
    "from pdfminer.converter import TextConverter\n",
    "from pdfminer.layout import LAParams\n",
    "from pdfminer.pdfdocument import PDFDocument\n",
    "from pdfminer.pdfinterp import PDFResourceManager, PDFPageInterpreter\n",
    "from pdfminer.pdfpage import PDFPage\n",
    "from io import StringIO\n",
    "\n",
    "def extract_pages_as_strings(pdf_filename):\n",
    "    resource_manager = PDFResourceManager()\n",
    "    pages_content = []\n",
    "\n",
    "    for page in PDFPage.get_pages(open(pdf_filename, 'rb')):\n",
    "        fake_file_handle = StringIO()\n",
    "        converter = TextConverter(resource_manager, fake_file_handle, laparams=LAParams())\n",
    "        page_interpreter = PDFPageInterpreter(resource_manager, converter)\n",
    "        page_interpreter.process_page(page)\n",
    "        text = fake_file_handle.getvalue()\n",
    "        pages_content.append(text)\n",
    "        converter.close()\n",
    "        fake_file_handle.close()\n",
    "\n",
    "    return pages_content\n",
    "\n",
    "# Example usage\n",
    "pdf_path = \"Type3.pdf\"\n",
    "pages = extract_pages_as_strings(pdf_path)\n",
    "print(len(pages))\n",
    "# To access content of a specific page, for example, page 2:\n",
    "page_2_content = pages[21]\n",
    "print(page_2_content)\n"
   ]
  },
  {
   "cell_type": "code",
   "execution_count": 53,
   "metadata": {},
   "outputs": [
    {
     "name": "stdout",
     "output_type": "stream",
     "text": [
      "[10, 21]\n"
     ]
    }
   ],
   "source": [
    "# simple approach with in operator\n",
    "# returns list of page numbers where both keywords are present\n",
    "\n",
    "keywords = [\"bezoldiging\", \"wnt\"]\n",
    "\n",
    "candidates = []\n",
    "for i,text in enumerate(pages):\n",
    "    contains_all_keywords = all(keyword.lower() in text.lower() for keyword in keywords)\n",
    "    if contains_all_keywords:\n",
    "        candidates.append(i)\n",
    "        \n",
    "        \n",
    "\n",
    "\n",
    "print(candidates)\n",
    "\n",
    "\n"
   ]
  }
 ],
 "metadata": {
  "kernelspec": {
   "display_name": "cibg",
   "language": "python",
   "name": "python3"
  },
  "language_info": {
   "codemirror_mode": {
    "name": "ipython",
    "version": 3
   },
   "file_extension": ".py",
   "mimetype": "text/x-python",
   "name": "python",
   "nbconvert_exporter": "python",
   "pygments_lexer": "ipython3",
   "version": "3.12.0"
  }
 },
 "nbformat": 4,
 "nbformat_minor": 2
}
